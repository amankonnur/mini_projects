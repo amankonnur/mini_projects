{
 "cells": [
  {
   "cell_type": "code",
   "execution_count": 1,
   "id": "45eede7e-a5eb-4c75-9183-cacb0e3e8187",
   "metadata": {},
   "outputs": [
    {
     "name": "stdout",
     "output_type": "stream",
     "text": [
      "Student Data:\n",
      "       Name  Marks\n",
      "0    Alice     85\n",
      "1      Bob     78\n",
      "2  Charlie     92\n",
      "3    David     88\n"
     ]
    },
    {
     "data": {
      "image/png": "[encoded data removed]",
      "text/plain": [
       "<Figure size 640x480 with 1 Axes>"
      ]
     },
     "metadata": {},
     "output_type": "display_data"
    }
   ],
   "source": [
    "#marks of students\n",
    "\n",
    "import pandas as pd\n",
    "import matplotlib.pyplot as plt\n",
    "\n",
    "data = {'Name': ['Alice', 'Bob', 'Charlie', 'David'], \n",
    "        'Marks': [85, 78, 92, 88]}\n",
    "df = pd.DataFrame(data)\n",
    "\n",
    "print(\"Student Data:\\n\", df)\n",
    "\n",
    "# Plotting\n",
    "plt.bar(df['Name'], df['Marks'], color='skyblue')\n",
    "plt.title(\"Student Marks\")\n",
    "plt.xlabel(\"Name\")\n",
    "plt.ylabel(\"Marks\")\n",
    "plt.show()"
   ]
  },
  {
   "cell_type": "code",
   "execution_count": 3,
   "id": "e7b8ce53-615d-4975-a7aa-046a38e821ac",
   "metadata": {},
   "outputs": [
    {
     "name": "stdout",
     "output_type": "stream",
     "text": [
      "Simple Calculator\n",
      "Choose operation: +, -, *, /\n"
     ]
    },
    {
     "name": "stdin",
     "output_type": "stream",
     "text": [
      "Enter operation:  +\n",
      "Enter first number:  6\n",
      "Enter second number:  79\n"
     ]
    },
    {
     "name": "stdout",
     "output_type": "stream",
     "text": [
      "Result: 85.0\n"
     ]
    }
   ],
   "source": [
    "#calculator\n",
    "\n",
    "def calculator():\n",
    "    print(\"Simple Calculator\")\n",
    "    print(\"Choose operation: +, -, *, /\")\n",
    "    operation = input(\"Enter operation: \")\n",
    "    num1 = float(input(\"Enter first number: \"))\n",
    "    num2 = float(input(\"Enter second number: \"))\n",
    "    \n",
    "    if operation == '+':\n",
    "        print(f\"Result: {num1 + num2}\")\n",
    "    elif operation == '-':\n",
    "        print(f\"Result: {num1 - num2}\")\n",
    "    elif operation == '*':\n",
    "        print(f\"Result: {num1 * num2}\")\n",
    "    elif operation == '/':\n",
    "        print(f\"Result: {num1 / num2 if num2 != 0 else 'Error: Division by zero'}\")\n",
    "    else:\n",
    "        print(\"Invalid operation\")\n",
    "        \n",
    "calculator()"
   ]
  },
  {
   "cell_type": "code",
   "execution_count": 5,
   "id": "0f642b62-199d-446a-9e24-6b3109edc246",
   "metadata": {},
   "outputs": [
    {
     "name": "stdin",
     "output_type": "stream",
     "text": [
      "Enter city name:  london\n"
     ]
    },
    {
     "name": "stdout",
     "output_type": "stream",
     "text": [
      "City not found!\n"
     ]
    }
   ],
   "source": [
    "import requests\n",
    "\n",
    "def get_weather(city):\n",
    "    api_key = \"15339075c6f024ea752b0af7bf5a253b\"  # Sign up at OpenWeatherMap for a free API key\n",
    "    url = f\"http://api.openweathermap.org/data/2.5/weather?q={city}&appid={api_key}&units=metric\"\n",
    "    response = requests.get(url)\n",
    "    data = response.json()\n",
    "    \n",
    "    if data.get(\"main\"):\n",
    "        print(f\"City: {data['name']}\")\n",
    "        print(f\"Temperature: {data['main']['temp']}°C\")\n",
    "        print(f\"Weather: {data['weather'][0]['description']}\")\n",
    "    else:\n",
    "        print(\"City not found!\")\n",
    "\n",
    "city = input(\"Enter city name: \")\n",
    "get_weather(city)"
   ]
  },
  {
   "cell_type": "code",
   "execution_count": 11,
   "id": "d0ee2533-a841-41dd-a3a7-6e65123fe9d5",
   "metadata": {},
   "outputs": [
    {
     "name": "stdout",
     "output_type": "stream",
     "text": [
      "Collecting pygame\n",
      "  Downloading pygame-2.6.1-cp312-cp312-win_amd64.whl.metadata (13 kB)\n",
      "Downloading pygame-2.6.1-cp312-cp312-win_amd64.whl (10.6 MB)\n",
      "   ---------------------------------------- 0.0/10.6 MB ? eta -:--:--\n",
      "   ---------------------------------------- 0.0/10.6 MB ? eta -:--:--\n",
      "   ---------------------------------------- 0.0/10.6 MB ? eta -:--:--\n",
      "   ---------------------------------------- 0.1/10.6 MB 1.1 MB/s eta 0:00:11\n",
      "   - -------------------------------------- 0.4/10.6 MB 2.9 MB/s eta 0:00:04\n",
      "   --- ------------------------------------ 1.0/10.6 MB 5.1 MB/s eta 0:00:02\n",
      "   ----- ---------------------------------- 1.4/10.6 MB 6.3 MB/s eta 0:00:02\n",
      "   ------ --------------------------------- 1.8/10.6 MB 6.6 MB/s eta 0:00:02\n",
      "   -------- ------------------------------- 2.3/10.6 MB 7.6 MB/s eta 0:00:02\n",
      "   ---------- ----------------------------- 2.7/10.6 MB 7.8 MB/s eta 0:00:02\n",
      "   ------------ --------------------------- 3.2/10.6 MB 8.2 MB/s eta 0:00:01\n",
      "   -------------- ------------------------- 3.7/10.6 MB 8.8 MB/s eta 0:00:01\n",
      "   --------------- ------------------------ 4.2/10.6 MB 9.0 MB/s eta 0:00:01\n",
      "   ------------------ --------------------- 4.8/10.6 MB 9.2 MB/s eta 0:00:01\n",
      "   ------------------- -------------------- 5.3/10.6 MB 9.4 MB/s eta 0:00:01\n",
      "   --------------------- ------------------ 5.8/10.6 MB 9.5 MB/s eta 0:00:01\n",
      "   ----------------------- ---------------- 6.3/10.6 MB 9.6 MB/s eta 0:00:01\n",
      "   ------------------------- -------------- 6.8/10.6 MB 9.9 MB/s eta 0:00:01\n",
      "   --------------------------- ------------ 7.4/10.6 MB 10.0 MB/s eta 0:00:01\n",
      "   ----------------------------- ---------- 7.9/10.6 MB 10.1 MB/s eta 0:00:01\n",
      "   ------------------------------ --------- 8.1/10.6 MB 10.2 MB/s eta 0:00:01\n",
      "   -------------------------------- ------- 8.7/10.6 MB 10.1 MB/s eta 0:00:01\n",
      "   ---------------------------------- ----- 9.2/10.6 MB 10.1 MB/s eta 0:00:01\n",
      "   ------------------------------------ --- 9.7/10.6 MB 10.2 MB/s eta 0:00:01\n",
      "   ------------------------------------- -- 10.1/10.6 MB 10.2 MB/s eta 0:00:01\n",
      "   ---------------------------------------  10.5/10.6 MB 11.1 MB/s eta 0:00:01\n",
      "   ---------------------------------------  10.6/10.6 MB 11.3 MB/s eta 0:00:01\n",
      "   ---------------------------------------- 10.6/10.6 MB 10.7 MB/s eta 0:00:00\n",
      "Installing collected packages: pygame\n",
      "Successfully installed pygame-2.6.1\n"
     ]
    }
   ],
   "source": [
    "!pip install pygame"
   ]
  },
  {
   "cell_type": "code",
   "execution_count": 14,
   "id": "0a797848-f074-43d7-836c-c30e33c7d726",
   "metadata": {},
   "outputs": [
    {
     "ename": "error",
     "evalue": "display Surface quit",
     "output_type": "error",
     "traceback": [
      "\u001b[1;31m---------------------------------------------------------------------------\u001b[0m",
      "\u001b[1;31merror\u001b[0m                                     Traceback (most recent call last)",
      "Cell \u001b[1;32mIn[14], line 116\u001b[0m\n\u001b[0;32m    113\u001b[0m     pygame\u001b[38;5;241m.\u001b[39mquit()\n\u001b[0;32m    114\u001b[0m     quit()\n\u001b[1;32m--> 116\u001b[0m gameLoop()\n",
      "Cell \u001b[1;32mIn[14], line 70\u001b[0m, in \u001b[0;36mgameLoop\u001b[1;34m()\u001b[0m\n\u001b[0;32m     68\u001b[0m                 game_close \u001b[38;5;241m=\u001b[39m \u001b[38;5;28;01mFalse\u001b[39;00m\n\u001b[0;32m     69\u001b[0m             \u001b[38;5;28;01mif\u001b[39;00m event\u001b[38;5;241m.\u001b[39mkey \u001b[38;5;241m==\u001b[39m pygame\u001b[38;5;241m.\u001b[39mK_c:\n\u001b[1;32m---> 70\u001b[0m                 gameLoop()\n\u001b[0;32m     72\u001b[0m \u001b[38;5;28;01mfor\u001b[39;00m event \u001b[38;5;129;01min\u001b[39;00m pygame\u001b[38;5;241m.\u001b[39mevent\u001b[38;5;241m.\u001b[39mget():\n\u001b[0;32m     73\u001b[0m     \u001b[38;5;28;01mif\u001b[39;00m event\u001b[38;5;241m.\u001b[39mtype \u001b[38;5;241m==\u001b[39m pygame\u001b[38;5;241m.\u001b[39mQUIT:\n",
      "Cell \u001b[1;32mIn[14], line 59\u001b[0m, in \u001b[0;36mgameLoop\u001b[1;34m()\u001b[0m\n\u001b[0;32m     57\u001b[0m \u001b[38;5;28;01mwhile\u001b[39;00m \u001b[38;5;129;01mnot\u001b[39;00m game_over:\n\u001b[0;32m     58\u001b[0m     \u001b[38;5;28;01mwhile\u001b[39;00m game_close:\n\u001b[1;32m---> 59\u001b[0m         screen\u001b[38;5;241m.\u001b[39mfill(black)\n\u001b[0;32m     60\u001b[0m         message(\u001b[38;5;124m\"\u001b[39m\u001b[38;5;124mYou Lost! Press C-Play Again or Q-Quit\u001b[39m\u001b[38;5;124m\"\u001b[39m, red)\n\u001b[0;32m     61\u001b[0m         score_display(length_of_snake \u001b[38;5;241m-\u001b[39m \u001b[38;5;241m1\u001b[39m)\n",
      "\u001b[1;31merror\u001b[0m: display Surface quit"
     ]
    }
   ],
   "source": [
    "import pygame\n",
    "import time\n",
    "import random\n",
    "\n",
    "# Initialize pygame\n",
    "pygame.init()\n",
    "\n",
    "# Screen dimensions\n",
    "width, height = 600, 400\n",
    "screen = pygame.display.set_mode((width, height))\n",
    "pygame.display.set_caption(\"Snake Game\")\n",
    "\n",
    "# Colors\n",
    "white = (255, 255, 255)\n",
    "black = (0, 0, 0)\n",
    "red = (255, 0, 0)\n",
    "green = (0, 255, 0)\n",
    "blue = (0, 0, 255)\n",
    "\n",
    "# Snake settings\n",
    "snake_block = 10\n",
    "snake_speed = 15\n",
    "\n",
    "# Font\n",
    "font_style = pygame.font.SysFont(\"bahnschrift\", 25)\n",
    "score_font = pygame.font.SysFont(\"comicsansms\", 35)\n",
    "\n",
    "# Functions\n",
    "def score_display(score):\n",
    "    value = score_font.render(\"Your Score: \" + str(score), True, blue)\n",
    "    screen.blit(value, [0, 0])\n",
    "\n",
    "def our_snake(snake_block, snake_list):\n",
    "    for x in snake_list:\n",
    "        pygame.draw.rect(screen, green, [x[0], x[1], snake_block, snake_block])\n",
    "\n",
    "def message(msg, color):\n",
    "    mesg = font_style.render(msg, True, color)\n",
    "    screen.blit(mesg, [width / 6, height / 3])\n",
    "\n",
    "# Main game function\n",
    "def gameLoop():\n",
    "    game_over = False\n",
    "    game_close = False\n",
    "\n",
    "    x1, y1 = width / 2, height / 2\n",
    "    x1_change, y1_change = 0, 0\n",
    "\n",
    "    snake_list = []\n",
    "    length_of_snake = 1\n",
    "\n",
    "    foodx = round(random.randrange(0, width - snake_block) / 10.0) * 10.0\n",
    "    foody = round(random.randrange(0, height - snake_block) / 10.0) * 10.0\n",
    "\n",
    "    clock = pygame.time.Clock()\n",
    "\n",
    "    while not game_over:\n",
    "        while game_close:\n",
    "            screen.fill(black)\n",
    "            message(\"You Lost! Press C-Play Again or Q-Quit\", red)\n",
    "            score_display(length_of_snake - 1)\n",
    "            pygame.display.update()\n",
    "\n",
    "            for event in pygame.event.get():\n",
    "                if event.type == pygame.KEYDOWN:\n",
    "                    if event.key == pygame.K_q:\n",
    "                        game_over = True\n",
    "                        game_close = False\n",
    "                    if event.key == pygame.K_c:\n",
    "                        gameLoop()\n",
    "\n",
    "        for event in pygame.event.get():\n",
    "            if event.type == pygame.QUIT:\n",
    "                game_over = True\n",
    "            if event.type == pygame.KEYDOWN:\n",
    "                if event.key == pygame.K_LEFT:\n",
    "                    x1_change, y1_change = -snake_block, 0\n",
    "                elif event.key == pygame.K_RIGHT:\n",
    "                    x1_change, y1_change = snake_block, 0\n",
    "                elif event.key == pygame.K_UP:\n",
    "                    x1_change, y1_change = 0, -snake_block\n",
    "                elif event.key == pygame.K_DOWN:\n",
    "                    x1_change, y1_change = 0, snake_block\n",
    "\n",
    "        if x1 >= width or x1 < 0 or y1 >= height or y1 < 0:\n",
    "            game_close = True\n",
    "        x1 += x1_change\n",
    "        y1 += y1_change\n",
    "        screen.fill(black)\n",
    "\n",
    "        pygame.draw.rect(screen, red, [foodx, foody, snake_block, snake_block])\n",
    "        snake_head = [x1, y1]\n",
    "        snake_list.append(snake_head)\n",
    "        if len(snake_list) > length_of_snake:\n",
    "            del snake_list[0]\n",
    "\n",
    "        for block in snake_list[:-1]:\n",
    "            if block == snake_head:\n",
    "                game_close = True\n",
    "\n",
    "        our_snake(snake_block, snake_list)\n",
    "        score_display(length_of_snake - 1)\n",
    "\n",
    "        pygame.display.update()\n",
    "\n",
    "        if x1 == foodx and y1 == foody:\n",
    "            foodx = round(random.randrange(0, width - snake_block) / 10.0) * 10.0\n",
    "            foody = round(random.randrange(0, height - snake_block) / 10.0) * 10.0\n",
    "            length_of_snake += 1\n",
    "\n",
    "        clock.tick(snake_speed)\n",
    "\n",
    "    pygame.quit()\n",
    "    quit()\n",
    "\n",
    "gameLoop()"
   ]
  },
  {
   "cell_type": "code",
   "execution_count": null,
   "id": "1e7bd1cd-f263-47dd-8047-60554e9b51df",
   "metadata": {},
   "outputs": [],
   "source": []
  }
 ],
 "metadata": {
  "kernelspec": {
   "display_name": "Python 3 (ipykernel)",
   "language": "python",
   "name": "python3"
  },
  "language_info": {
   "codemirror_mode": {
    "name": "ipython",
    "version": 3
   },
   "file_extension": ".py",
   "mimetype": "text/x-python",
   "name": "python",
   "nbconvert_exporter": "python",
   "pygments_lexer": "ipython3",
   "version": "3.12.4"
  }
 },
 "nbformat": 4,
 "nbformat_minor": 5
}
